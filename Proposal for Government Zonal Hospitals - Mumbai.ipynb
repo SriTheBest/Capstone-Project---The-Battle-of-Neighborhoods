{
    "nbformat_minor": 1, 
    "cells": [
        {
            "source": "# Proposal for Government Zonal Hospitals - Mumbai", 
            "cell_type": "markdown", 
            "metadata": {}
        }, 
        {
            "source": "## Introduction/Business Problem", 
            "cell_type": "markdown", 
            "metadata": {}
        }, 
        {
            "source": "Mumbai in India, stands at 6th place in the list of \u201cCities by population density\u201d of the world. \nTraffic is also pretty bad there. Many a times ambulances are stuck in traffic and reaching to the nearest Government hospital becomes very difficult.\nKeeping all this in mind, it would be better to recognise at least one hospital in a zone, where treatment can be given at subsidised cost.", 
            "cell_type": "markdown", 
            "metadata": {}
        }, 
        {
            "source": "To achieve this, \n1. Divide the city into Zones.\n2. Consider Postal codes for City Division.\n3. In additional to that, cluster the Postal codes into \u2018K\u2019 clusters.\n4. Check if there is at least one hospital in every zone.\n5. List out all the hospitals in the zone. This is to give options to pick the hospital for government affiliation.\n6. If there is no hospital in the zone, check if there is at least one hospital in the clusters( to which this zone belongs to).\n7. List at least one hospital, from the list of hospitals in the zone, to tag to the zones which does not have hospitals otherwise.\n8. If there is not hospital even in the cluster, then that would indicate that there is a need for the hospital in that area. Suggest government to build at least one hospital in that zone/cluster.\n9. Finally, there will be a list of areas and for every area there will be either a list of hospitals or at least one hospital that can be used for government association.", 
            "cell_type": "markdown", 
            "metadata": {}
        }, 
        {
            "source": "## Data section", 
            "cell_type": "markdown", 
            "metadata": {}
        }, 
        {
            "source": "Now, use foursquare API to find all the hospitals in every pincode using latlong", 
            "cell_type": "markdown", 
            "metadata": {}
        }, 
        {
            "source": "To get the postal codes of Mumbai, referred to https://worldpostalcode.com/india/maharashtra/mumbai/.", 
            "cell_type": "markdown", 
            "metadata": {}
        }, 
        {
            "source": "By web-Scraping extract area, pincode.", 
            "cell_type": "markdown", 
            "metadata": {}
        }, 
        {
            "source": "Using 'geolocator' find the latlong for pincode.", 
            "cell_type": "markdown", 
            "metadata": {}
        }, 
        {
            "source": "Cluster all the areas(using lat long) into an appropriate number of clusters by using KMeans.", 
            "cell_type": "markdown", 
            "metadata": {}
        }, 
        {
            "source": "With this latlong, use foursquare API to find the all the hospitals in the area of the Pincode.", 
            "cell_type": "markdown", 
            "metadata": {}
        }, 
        {
            "source": "For example : \nArea_name   PinCode   Latitude   Longitude\nAgripada    400011    18.975302  72.824898", 
            "cell_type": "markdown", 
            "metadata": {}
        }, 
        {
            "source": "Check if any area does not have a hospital, in which case check if the cluster(to which this area belongs), has a hospital", 
            "cell_type": "markdown", 
            "metadata": {}
        }, 
        {
            "source": "Pick any hospital from the cluster hospital list and suggest to this area.", 
            "cell_type": "markdown", 
            "metadata": {}
        }, 
        {
            "source": "Finally, there will be either a list of hospital suggestions(in case of hospital in the zonal area) or atleast one hospital suggestion(in case of hospital in the cluster area)", 
            "cell_type": "markdown", 
            "metadata": {}
        }, 
        {
            "source": "Area_name    PinCode    Latitude   Longitude   clusters  IsHospital   Hospital_list                                   cluster_Is_H    cluster_H_list\n\nAndheri H.o  400053    19.119125   72.847331      0         1         [Sanjeevani Hospital, Brahmakumari Hospital, B...    0             []\n\nAzad Nagar   400053    19.165798   72.955893      0         0         []                                                   1             Sona Hospital\n                                                                       ", 
            "cell_type": "raw", 
            "metadata": {}
        }, 
        {
            "source": "## Methodology", 
            "cell_type": "markdown", 
            "metadata": {}
        }, 
        {
            "source": "My initial start up data is from a webpage https://worldpostalcode.com/india/maharashtra/mumbai/, which has the list of all postal codes in Mumbai along with the name of the areas. I did some webscrapping and extracted the data into a dataframe. \nWe had 128 pincodes in total here. ", 
            "cell_type": "markdown", 
            "metadata": {}
        }, 
        {
            "source": "    Area_name\t        PinCode\n0\tA I Staff Colony\t400029\n1\tAgripada\t        400011\n2\tAirport\t            400099\n3\tAmbewadi\t        400004\n4\tAndheri East\t    400069", 
            "cell_type": "code", 
            "metadata": {}, 
            "outputs": [], 
            "execution_count": null
        }, 
        {
            "source": "Once this data was ready, I used Nomintatim to get the latlong. Here i obsereved that for some areas, the latlong could not found. I had to drop out those pincodes for which latlong could not be found. There were approximately 39 pincodes. Hence, the size of the dataframe reduced to 89 rows.\nAnd then used Foursquare API to get the list of all Hospitals in that pincodes. Since there might be more than one hospital in one pincode, I created a list of all the hospitals in that pincode. The dataframe now is like -", 
            "cell_type": "markdown", 
            "metadata": {}
        }, 
        {
            "source": "shape before: (128, 4)\nshape after: (89, 4)", 
            "cell_type": "code", 
            "metadata": {}, 
            "outputs": [], 
            "execution_count": null
        }, 
        {
            "source": "And then used Foursquare API to get the list of all Hospitals in that pincodes. Since there might be more than one hospital in one pincode, I created a list of all the hospitals in that pincode. The dataframe now is like -", 
            "cell_type": "markdown", 
            "metadata": {}
        }, 
        {
            "source": "\n    Area_name\t   PinCode\tLatitude\tLongitude\tIsHospital\tHospital_list\n0\tAgripada\t   400011\t18.975302\t72.824898\t1\t        [Wockhardt Hospital, Nair Hospital, Niar hospi...\n1\tAirport\t       400099\t19.090201\t72.863808\t0\t        []\n2\tAmbewadi\t   400004\t19.186776\t72.859313\t1\t        [st marys hospital]\n3\tAndheri East   400069\t19.115883\t72.854202\t1\t        [criticare hospital]\n4\tAndheri H.o\t   400053\t19.119125\t72.847331\t1\t        [Sanjeevani Hospital, BSES Hospital Canteen, B...", 
            "cell_type": "code", 
            "metadata": {}, 
            "outputs": [], 
            "execution_count": null
        }, 
        {
            "source": "As can be seen there are areas which does not have any hospitals. As a next step, i wanted to check if there is any other hospital nearby. To achive the same, i decided to cluster with the help of latlong(KMeans).\nBefore i decide, into how many clusters do i need to divide, i tried to find the optimum K. ", 
            "cell_type": "markdown", 
            "metadata": {}
        }, 
        {
            "source": "The optimum K was somewhere in between 10 and 20.Considering the vast spread city lets have 20 clusters let's cluster the city with k= 20.", 
            "cell_type": "markdown", 
            "metadata": {}
        }, 
        {
            "source": "I added the cluster numbers to the list as below -", 
            "cell_type": "markdown", 
            "metadata": {}
        }, 
        {
            "source": "shape: (89, 7)\n    Area_name\t   PinCode\tLatitude\tLongitude\tIsHospital\tHospital_list\t                            clusters\n0\tAgripada\t   400011\t18.975302\t72.824898\t1\t[Wockhardt Hospital, Nair Hospital, Niar hospi...\t3\n1\tAirport\t       400099\t19.090201\t72.863808\t0\t[]\t                                                17\n2\tAmbewadi\t   400004\t19.186776\t72.859313\t1\t[st marys hospital]\t                                6\n3\tAndheri Eas    400069\t19.115883\t72.854202\t1\t[criticare hospital]\t                            9\n4\tAndheri H.o\t   400053\t19.119125\t72.847331\t1\t[Sanjeevani Hospital, BSES Hospital Canteen, B...\t9", 
            "cell_type": "code", 
            "metadata": {}, 
            "outputs": [], 
            "execution_count": null
        }, 
        {
            "source": "Then i created a folium map for these cluters", 
            "cell_type": "markdown", 
            "metadata": {}
        }, 
        {
            "source": "For all the pincodes that does not a hospital, i tried to check if there is a hospital in the cluster and pulled out the name of the hospital. And then added two more comlumns which indicate whether there is a hospital in the cluster and the name of hospital.", 
            "cell_type": "markdown", 
            "metadata": {}
        }, 
        {
            "source": "And finally i added a column, the name of the proposal hospital 'Govt_Hospital'. This contains the first name in the list of hospitals in the pincode. If there is no hospital in the pincode, it picks up the hospital name in the cluster hospital. And if there is no hospital in the pincode and also no hospital in the Cluster, then \"No Hospital present\" is written to the column", 
            "cell_type": "markdown", 
            "metadata": {}
        }, 
        {
            "source": "    Area_name\t PinCode Latitude\tLongitude\tIsHospital\tHospital_list\t                                    clusters cluster_Is_H    cluster_H_list\t         Govt_Hospital\n0\tAgripada\t 400011\t 18.975302\t72.824898\t1\t        [Wockhardt Hospital, Nair Hospital, Niar hospi...\t 3\t     0\t             []\t                     Wockhardt Hospital\n1\tAirport\t     400099\t 19.090201\t72.863808\t0\t        []\t                                                 17\tNo Hospital Present\t No Hospital Present\t No Hospital Present\n2\tAmbewadi\t 400004\t 19.186776\t72.859313\t1\t        [st marys hospital]\t                                 6\t     0\t             []\t                     st marys hospital\n3\tAndheri East 400069\t 19.115883\t72.854202\t1\t        [criticare hospital]\t                             9\t     0\t             []\t                     criticare hospital\n4\tAndheri H.o\t 400053\t 19.119125\t72.847331\t1\t        [Sanjeevani Hospital, BSES Hospital Canteen, B...\t 9\t     0\t             []\t                     Sanjeevani Hospital", 
            "cell_type": "code", 
            "metadata": {}, 
            "outputs": [], 
            "execution_count": null
        }, 
        {
            "source": "## Results", 
            "cell_type": "markdown", 
            "metadata": {}
        }, 
        {
            "source": "So, the final result would be a dataframe which has the proposed Hospital for every pincode. This hospital name is extracted randomly from the list of hospitals in the pincode or randomly from the list of hospitals in the neighbourhood(in case where there are no hospitals in the pincode).\n\nAs an attempt to check the clustering, i have tried clustering it many times and each time i try to cluster the composition of the cluster was changing. But then, the number of clusters that don't have a hospital within the cluster remains more or less the same (3 or 4).\n\nAlso, while suggesting the hospital for government affiliation,for the ease of processing and the foursquare limitations, i could not use the ratings for each hospital. But i strongly feel that, ratings shud be taken into consideration(foursquare /venue/ ratings) and the highest rating hospital shud be marked. And only the highest rated hospitals shud be used for proposal for each area.\n", 
            "cell_type": "markdown", 
            "metadata": {}
        }, 
        {
            "source": "## Discussion", 
            "cell_type": "markdown", 
            "metadata": {}
        }, 
        {
            "source": "As, it can be seen there are areas(pincodes), where there is no hospital. Not only that, there are clusters(group of neighbourhoods) where there are no hospitals. This is a serious situation. Providing basic eminities like health care , for minimum charges should be the prime focus for any government.\n\n\n", 
            "cell_type": "markdown", 
            "metadata": {}
        }, 
        {
            "source": "There are many cases recorded, where in the patient died before even reaching the hospital.And in cities like Mumbai where the density of population is too high, traffic being bad, conjestion etc having a hospital in the near visinity is a must.", 
            "cell_type": "markdown", 
            "metadata": {}
        }, 
        {
            "source": "It was quite surprising for me to observe the fact that there are cluters that do not have hospitals. A very alarming fact.", 
            "cell_type": "markdown", 
            "metadata": {}
        }, 
        {
            "source": "I would strongly recommend to have a hospital in every cluster atleast, not to mention in each pincode. This is what that needs to be immediately acted upon.", 
            "cell_type": "markdown", 
            "metadata": {}
        }, 
        {
            "source": "## Conclusion", 
            "cell_type": "markdown", 
            "metadata": {}
        }, 
        {
            "source": "With all the observations and supporting data, i guess its high time we request to build hospitals in all those areas which don't have a hospital.", 
            "cell_type": "markdown", 
            "metadata": {}
        }, 
        {
            "source": "Let best healthcare be provided, lives be saved !!", 
            "cell_type": "markdown", 
            "metadata": {}
        }, 
        {
            "source": "Walk towards providing healthy future...", 
            "cell_type": "markdown", 
            "metadata": {}
        }, 
        {
            "source": "Sri.", 
            "cell_type": "markdown", 
            "metadata": {}
        }, 
        {
            "source": "", 
            "cell_type": "code", 
            "metadata": {}, 
            "outputs": [], 
            "execution_count": null
        }
    ], 
    "metadata": {
        "kernelspec": {
            "display_name": "Python 3.5", 
            "name": "python3", 
            "language": "python"
        }, 
        "language_info": {
            "mimetype": "text/x-python", 
            "nbconvert_exporter": "python", 
            "version": "3.5.5", 
            "name": "python", 
            "file_extension": ".py", 
            "pygments_lexer": "ipython3", 
            "codemirror_mode": {
                "version": 3, 
                "name": "ipython"
            }
        }
    }, 
    "nbformat": 4
}