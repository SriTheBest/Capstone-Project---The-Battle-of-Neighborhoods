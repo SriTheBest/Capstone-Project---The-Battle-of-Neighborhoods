{
    "nbformat_minor": 1, 
    "cells": [
        {
            "source": "# Proposal for Government Zonal Hospitals - Mumbai", 
            "cell_type": "markdown", 
            "metadata": {}
        }, 
        {
            "source": "## Introduction/Business Problem", 
            "cell_type": "markdown", 
            "metadata": {}
        }, 
        {
            "source": "Mumbai in India, stands at 6th place in the list of \u201cCities by population density\u201d of the world. \nTraffic is also pretty bad there. Many a times ambulances are stuck in traffic and reaching to the nearest Government hospital becomes very difficult.\nKeeping all this in mind, it would be better to recognise at least one hospital in a zone, where treatment can be given at subsidised cost.", 
            "cell_type": "markdown", 
            "metadata": {}
        }, 
        {
            "source": "To achieve this, \n1. Divide the city into Zones.\n2. Consider Postal codes for City Division.\n3. In additional to that, cluster the Postal codes into \u2018K\u2019 clusters.\n4. Check if there is at least one hospital in every zone.\n5. List out all the hospitals in the zone. This is to give options to pick the hospital for government affiliation.\n6. If there is no hospital in the zone, check if there is at least one hospital in the clusters( to which this zone belongs to).\n7. List at least one hospital, from the list of hospitals in the zone, to tag to the zones which does not have hospitals otherwise.\n8. If there is not hospital even in the cluster, then that would indicate that there is a need for the hospital in that area. Suggest government to build at least one hospital in that zone/cluster.\n9. Finally, there will be a list of areas and for every area there will be either a list of hospitals or at least one hospital that can be used for government association.", 
            "cell_type": "markdown", 
            "metadata": {}
        }, 
        {
            "source": "## Data section", 
            "cell_type": "markdown", 
            "metadata": {}
        }, 
        {
            "source": "To get the postal codes of Mumbai, referred to https://worldpostalcode.com/india/maharashtra/mumbai/.", 
            "cell_type": "markdown", 
            "metadata": {}
        }, 
        {
            "source": "By web-Scraping extract area, pincode.", 
            "cell_type": "markdown", 
            "metadata": {}
        }, 
        {
            "source": "Using 'geolocator' find the latlong for pincode.", 
            "cell_type": "markdown", 
            "metadata": {}
        }, 
        {
            "source": "With this latlong, use foursquare API to find the all the hospitals in the area of the Pincode.", 
            "cell_type": "markdown", 
            "metadata": {}
        }, 
        {
            "source": "For example : \nArea_name   PinCode   Latitude   Longitude\nAgripada    400011    18.975302  72.824898", 
            "cell_type": "raw", 
            "metadata": {}
        }, 
        {
            "source": "Cluster all the areas(using pincodes) into an appropriate number of clusters by using KMeans.", 
            "cell_type": "markdown", 
            "metadata": {}
        }, 
        {
            "source": "Now, use foursquare API to find all the hospitals in every pincode using latlong", 
            "cell_type": "markdown", 
            "metadata": {}
        }, 
        {
            "source": "Check if any area does not have a hospital, in which case check if the cluster(to which this area belongs), has a hospital", 
            "cell_type": "markdown", 
            "metadata": {}
        }, 
        {
            "source": "Pick any hospital from the cluster hospital list and suggest to this area.", 
            "cell_type": "markdown", 
            "metadata": {}
        }, 
        {
            "source": "Finally, there will be either a list of hospital suggestions(in case of hospital in the zonal area) or atleast one hospital suggestion(in case of hospital in the cluster area)", 
            "cell_type": "markdown", 
            "metadata": {}
        }, 
        {
            "source": "Area_name    PinCode    Latitude   Longitude   clusters  IsHospital   Hospital_list                                   cluster_Is_H    cluster_H_list\n\nAndheri H.o  400053    19.119125   72.847331      0         1         [Sanjeevani Hospital, Brahmakumari Hospital, B...    0             []\n\nAzad Nagar\t 400053\t   19.165798   72.955893\t  0\t        0\t      []\t                                               1\t       Sona Hospital\n                                                                       ", 
            "cell_type": "raw", 
            "metadata": {}
        }
    ], 
    "metadata": {
        "kernelspec": {
            "display_name": "Python 3.5", 
            "name": "python3", 
            "language": "python"
        }, 
        "language_info": {
            "mimetype": "text/x-python", 
            "nbconvert_exporter": "python", 
            "version": "3.5.5", 
            "name": "python", 
            "pygments_lexer": "ipython3", 
            "file_extension": ".py", 
            "codemirror_mode": {
                "version": 3, 
                "name": "ipython"
            }
        }
    }, 
    "nbformat": 4
}