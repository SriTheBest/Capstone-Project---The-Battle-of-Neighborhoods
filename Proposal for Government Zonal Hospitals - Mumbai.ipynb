{
    "nbformat_minor": 1, 
    "cells": [
        {
            "source": "# Proposal for Government Zonal Hospitals - Mumbai", 
            "cell_type": "markdown", 
            "metadata": {}
        }, 
        {
            "source": "Mumbai in India, stands at 6th place in the list of \u201cCities by population density\u201d of the world. \nTraffic is also pretty bad there. Many a times ambulances are stuck in traffic and reaching to the nearest Government hospital becomes very difficult.\nKeeping all this in mind, it would be better to recognise at least one hospital in a zone, where treatment can be given at subsidised cost.", 
            "cell_type": "markdown", 
            "metadata": {}
        }, 
        {
            "source": "To achieve this, \n1. Divide the city into Zones.\n2. Consider Postal codes for City Division.\n3. In additional to that, cluster the Postal codes into \u2018K\u2019 clusters.\n4. Check if there is at least one hospital in every zone.\n5. List out all the hospitals in the zone. This is to give options to pick the hospital for government affiliation.\n6. If there is no hospital in the zone, check if there is at least one hospital in the clusters( to which this zone belongs to).\n7. List at least one hospital, from the list of hospitals in the zone, to tag to the zones which does not have hospitals otherwise.\n8. If there is not hospital even in the cluster, then that would indicate that there is a need for the hospital in that area. Suggest government to build at least one hospital in that zone/cluster.\n9. Finally, there will be a list of areas and for every area there will be either a list of hospitals or at least one hospital that can be used for government association.", 
            "cell_type": "markdown", 
            "metadata": {}
        }, 
        {
            "source": "", 
            "cell_type": "code", 
            "metadata": {}, 
            "outputs": [], 
            "execution_count": null
        }
    ], 
    "metadata": {
        "kernelspec": {
            "display_name": "Python 3.5", 
            "name": "python3", 
            "language": "python"
        }, 
        "language_info": {
            "mimetype": "text/x-python", 
            "nbconvert_exporter": "python", 
            "version": "3.5.5", 
            "name": "python", 
            "pygments_lexer": "ipython3", 
            "file_extension": ".py", 
            "codemirror_mode": {
                "version": 3, 
                "name": "ipython"
            }
        }
    }, 
    "nbformat": 4
}